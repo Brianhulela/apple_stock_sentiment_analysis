{
 "cells": [
  {
   "cell_type": "markdown",
   "id": "a12f7429",
   "metadata": {},
   "source": [
    "# Analyzing Apple Stock News Sentiment with FinBERT and Yahoo Finance\n",
    "\n",
    "This notebook demonstrates how to use FinBERT, a transformer-based model fine-tuned for financial sentiment analysis, to analyze recent news articles for the Apple(AAPL) stock ticker. We'll use yfinance to fetch the news, transformers for inference, and matplotlib to visualize the sentiment distribution."
   ]
  },
  {
   "cell_type": "markdown",
   "id": "c27790e6",
   "metadata": {},
   "source": [
    "## Install Required Packages"
   ]
  },
  {
   "cell_type": "code",
   "execution_count": 1,
   "id": "9882ef72",
   "metadata": {},
   "outputs": [
    {
     "name": "stdout",
     "output_type": "stream",
     "text": [
      "Collecting yfinanceNote: you may need to restart the kernel to use updated packages.\n",
      "\n",
      "  Downloading yfinance-0.2.62-py2.py3-none-any.whl (118 kB)\n",
      "Collecting transformers\n",
      "  Using cached transformers-4.52.4-py3-none-any.whl (10.5 MB)\n",
      "Collecting torch\n",
      "  Downloading torch-2.7.1-cp310-cp310-win_amd64.whl (216.1 MB)\n",
      "Collecting pandas\n",
      "  Downloading pandas-2.3.0-cp310-cp310-win_amd64.whl (11.1 MB)\n",
      "Collecting matplotlib\n",
      "  Using cached matplotlib-3.10.3-cp310-cp310-win_amd64.whl (8.1 MB)\n",
      "Collecting pytz>=2022.5\n",
      "  Using cached pytz-2025.2-py2.py3-none-any.whl (509 kB)\n",
      "Collecting peewee>=3.16.2\n",
      "  Using cached peewee-3.18.1-py3-none-any.whl\n",
      "Collecting numpy>=1.16.5\n",
      "  Using cached numpy-2.2.6-cp310-cp310-win_amd64.whl (12.9 MB)\n",
      "Requirement already satisfied: platformdirs>=2.0.0 in c:\\users\\brian\\onedrive - university of witwatersrand\\desktop\\off_the_grid\\tutorials\\ai\\apple_stock_sentiment_analysis\\venv\\lib\\site-packages (from yfinance) (4.3.8)\n",
      "Collecting beautifulsoup4>=4.11.1\n",
      "  Using cached beautifulsoup4-4.13.4-py3-none-any.whl (187 kB)\n",
      "Collecting protobuf>=3.19.0\n",
      "  Using cached protobuf-6.31.1-cp310-abi3-win_amd64.whl (435 kB)\n",
      "Collecting requests>=2.31\n",
      "  Using cached requests-2.32.3-py3-none-any.whl (64 kB)\n",
      "Collecting curl_cffi>=0.7\n",
      "  Downloading curl_cffi-0.11.2-cp39-abi3-win_amd64.whl (1.4 MB)\n",
      "Collecting websockets>=13.0\n",
      "  Using cached websockets-15.0.1-cp310-cp310-win_amd64.whl (176 kB)\n",
      "Collecting frozendict>=2.3.4\n",
      "  Using cached frozendict-2.4.6-cp310-cp310-win_amd64.whl (37 kB)\n",
      "Collecting multitasking>=0.0.7\n",
      "  Using cached multitasking-0.0.11-py3-none-any.whl (8.5 kB)\n",
      "Collecting regex!=2019.12.17\n",
      "  Using cached regex-2024.11.6-cp310-cp310-win_amd64.whl (274 kB)\n",
      "Collecting filelock\n",
      "  Using cached filelock-3.18.0-py3-none-any.whl (16 kB)\n",
      "Collecting safetensors>=0.4.3\n",
      "  Using cached safetensors-0.5.3-cp38-abi3-win_amd64.whl (308 kB)\n",
      "Collecting tokenizers<0.22,>=0.21\n",
      "  Using cached tokenizers-0.21.1-cp39-abi3-win_amd64.whl (2.4 MB)\n",
      "Requirement already satisfied: packaging>=20.0 in c:\\users\\brian\\onedrive - university of witwatersrand\\desktop\\off_the_grid\\tutorials\\ai\\apple_stock_sentiment_analysis\\venv\\lib\\site-packages (from transformers) (25.0)\n",
      "Collecting huggingface-hub<1.0,>=0.30.0\n",
      "  Downloading huggingface_hub-0.32.4-py3-none-any.whl (512 kB)\n",
      "Collecting tqdm>=4.27\n",
      "  Using cached tqdm-4.67.1-py3-none-any.whl (78 kB)\n",
      "Collecting pyyaml>=5.1\n",
      "  Using cached PyYAML-6.0.2-cp310-cp310-win_amd64.whl (161 kB)\n",
      "Collecting sympy>=1.13.3\n",
      "  Using cached sympy-1.14.0-py3-none-any.whl (6.3 MB)\n",
      "Collecting jinja2\n",
      "  Using cached jinja2-3.1.6-py3-none-any.whl (134 kB)\n",
      "Collecting networkx\n",
      "  Using cached networkx-3.4.2-py3-none-any.whl (1.7 MB)\n",
      "Requirement already satisfied: typing-extensions>=4.10.0 in c:\\users\\brian\\onedrive - university of witwatersrand\\desktop\\off_the_grid\\tutorials\\ai\\apple_stock_sentiment_analysis\\venv\\lib\\site-packages (from torch) (4.14.0)\n",
      "Collecting fsspec\n",
      "  Using cached fsspec-2025.5.1-py3-none-any.whl (199 kB)\n",
      "Requirement already satisfied: python-dateutil>=2.8.2 in c:\\users\\brian\\onedrive - university of witwatersrand\\desktop\\off_the_grid\\tutorials\\ai\\apple_stock_sentiment_analysis\\venv\\lib\\site-packages (from pandas) (2.9.0.post0)\n",
      "Collecting tzdata>=2022.7\n",
      "  Using cached tzdata-2025.2-py2.py3-none-any.whl (347 kB)\n",
      "Collecting cycler>=0.10\n",
      "  Using cached cycler-0.12.1-py3-none-any.whl (8.3 kB)\n",
      "Collecting pillow>=8\n",
      "  Using cached pillow-11.2.1-cp310-cp310-win_amd64.whl (2.7 MB)\n",
      "Collecting pyparsing>=2.3.1\n",
      "  Using cached pyparsing-3.2.3-py3-none-any.whl (111 kB)\n",
      "Collecting kiwisolver>=1.3.1\n",
      "  Using cached kiwisolver-1.4.8-cp310-cp310-win_amd64.whl (71 kB)\n",
      "Collecting fonttools>=4.22.0\n",
      "  Downloading fonttools-4.58.2-cp310-cp310-win_amd64.whl (2.2 MB)\n",
      "Collecting contourpy>=1.0.1\n",
      "  Using cached contourpy-1.3.2-cp310-cp310-win_amd64.whl (221 kB)\n",
      "Collecting soupsieve>1.2\n",
      "  Using cached soupsieve-2.7-py3-none-any.whl (36 kB)\n",
      "Collecting cffi>=1.12.0\n",
      "  Using cached cffi-1.17.1-cp310-cp310-win_amd64.whl (181 kB)\n",
      "Collecting certifi>=2024.2.2\n",
      "  Using cached certifi-2025.4.26-py3-none-any.whl (159 kB)\n",
      "Collecting pycparser\n",
      "  Using cached pycparser-2.22-py3-none-any.whl (117 kB)\n",
      "Requirement already satisfied: six>=1.5 in c:\\users\\brian\\onedrive - university of witwatersrand\\desktop\\off_the_grid\\tutorials\\ai\\apple_stock_sentiment_analysis\\venv\\lib\\site-packages (from python-dateutil>=2.8.2->pandas) (1.17.0)\n",
      "Collecting urllib3<3,>=1.21.1\n",
      "  Using cached urllib3-2.4.0-py3-none-any.whl (128 kB)\n",
      "Collecting idna<4,>=2.5\n",
      "  Using cached idna-3.10-py3-none-any.whl (70 kB)\n",
      "Collecting charset-normalizer<4,>=2\n",
      "  Using cached charset_normalizer-3.4.2-cp310-cp310-win_amd64.whl (105 kB)\n",
      "Collecting mpmath<1.4,>=1.1.0\n",
      "  Using cached mpmath-1.3.0-py3-none-any.whl (536 kB)\n",
      "Requirement already satisfied: colorama in c:\\users\\brian\\onedrive - university of witwatersrand\\desktop\\off_the_grid\\tutorials\\ai\\apple_stock_sentiment_analysis\\venv\\lib\\site-packages (from tqdm>=4.27->transformers) (0.4.6)\n",
      "Collecting MarkupSafe>=2.0\n",
      "  Using cached MarkupSafe-3.0.2-cp310-cp310-win_amd64.whl (15 kB)\n",
      "Installing collected packages: urllib3, idna, charset-normalizer, certifi, tqdm, requests, pyyaml, pycparser, fsspec, filelock, tzdata, soupsieve, pytz, numpy, mpmath, MarkupSafe, huggingface-hub, cffi, websockets, tokenizers, sympy, safetensors, regex, pyparsing, protobuf, pillow, peewee, pandas, networkx, multitasking, kiwisolver, jinja2, frozendict, fonttools, cycler, curl-cffi, contourpy, beautifulsoup4, yfinance, transformers, torch, matplotlib\n",
      "Successfully installed MarkupSafe-3.0.2 beautifulsoup4-4.13.4 certifi-2025.4.26 cffi-1.17.1 charset-normalizer-3.4.2 contourpy-1.3.2 curl-cffi-0.11.2 cycler-0.12.1 filelock-3.18.0 fonttools-4.58.2 frozendict-2.4.6 fsspec-2025.5.1 huggingface-hub-0.32.4 idna-3.10 jinja2-3.1.6 kiwisolver-1.4.8 matplotlib-3.10.3 mpmath-1.3.0 multitasking-0.0.11 networkx-3.4.2 numpy-2.2.6 pandas-2.3.0 peewee-3.18.1 pillow-11.2.1 protobuf-6.31.1 pycparser-2.22 pyparsing-3.2.3 pytz-2025.2 pyyaml-6.0.2 regex-2024.11.6 requests-2.32.3 safetensors-0.5.3 soupsieve-2.7 sympy-1.14.0 tokenizers-0.21.1 torch-2.7.1 tqdm-4.67.1 transformers-4.52.4 tzdata-2025.2 urllib3-2.4.0 websockets-15.0.1 yfinance-0.2.62\n"
     ]
    },
    {
     "name": "stderr",
     "output_type": "stream",
     "text": [
      "WARNING: You are using pip version 21.2.3; however, version 25.1.1 is available.\n",
      "You should consider upgrading via the 'c:\\Users\\Brian\\OneDrive - University of Witwatersrand\\Desktop\\off_the_grid\\tutorials\\ai\\apple_stock_sentiment_analysis\\venv\\Scripts\\python.exe -m pip install --upgrade pip' command.\n"
     ]
    }
   ],
   "source": [
    "%pip install yfinance transformers torch pandas matplotlib"
   ]
  },
  {
   "cell_type": "markdown",
   "id": "23d4050f",
   "metadata": {},
   "source": [
    "## Import Libraries"
   ]
  },
  {
   "cell_type": "code",
   "execution_count": 2,
   "id": "e8f4d24b",
   "metadata": {},
   "outputs": [
    {
     "name": "stderr",
     "output_type": "stream",
     "text": [
      "c:\\Users\\Brian\\OneDrive - University of Witwatersrand\\Desktop\\off_the_grid\\tutorials\\ai\\apple_stock_sentiment_analysis\\venv\\lib\\site-packages\\tqdm\\auto.py:21: TqdmWarning: IProgress not found. Please update jupyter and ipywidgets. See https://ipywidgets.readthedocs.io/en/stable/user_install.html\n",
      "  from .autonotebook import tqdm as notebook_tqdm\n"
     ]
    }
   ],
   "source": [
    "import pandas as pd\n",
    "from transformers import pipeline, AutoTokenizer, AutoModelForSequenceClassification\n",
    "import matplotlib.pyplot as plt\n",
    "import yfinance as yf\n",
    "plt.style.use(\"dark_background\")"
   ]
  },
  {
   "cell_type": "markdown",
   "id": "7beb69dd",
   "metadata": {},
   "source": [
    "## Load FinBERT Sentiment Classifier"
   ]
  },
  {
   "cell_type": "code",
   "execution_count": 3,
   "id": "d01835c3",
   "metadata": {},
   "outputs": [
    {
     "name": "stderr",
     "output_type": "stream",
     "text": [
      "Device set to use cpu\n"
     ]
    }
   ],
   "source": [
    "model_name = \"ProsusAI/finbert\"\n",
    "tokenizer = AutoTokenizer.from_pretrained(model_name)\n",
    "model = AutoModelForSequenceClassification.from_pretrained(model_name)\n",
    "classifier = pipeline(\"sentiment-analysis\", model=model, tokenizer=tokenizer)"
   ]
  },
  {
   "cell_type": "markdown",
   "id": "8c7a09a7",
   "metadata": {},
   "source": [
    "## Fetch News for a Stock Ticker"
   ]
  },
  {
   "cell_type": "code",
   "execution_count": 4,
   "id": "66ceb14d",
   "metadata": {},
   "outputs": [],
   "source": [
    "ticker = \"AAPL\"  \n",
    "dat = yf.Ticker(ticker)\n",
    "news = dat.news"
   ]
  },
  {
   "cell_type": "markdown",
   "id": "b4552f98",
   "metadata": {},
   "source": [
    "## Convert News Content to a DataFrame"
   ]
  },
  {
   "cell_type": "code",
   "execution_count": null,
   "id": "776544b3",
   "metadata": {},
   "outputs": [
    {
     "data": {
      "text/html": [
       "<div>\n",
       "<style scoped>\n",
       "    .dataframe tbody tr th:only-of-type {\n",
       "        vertical-align: middle;\n",
       "    }\n",
       "\n",
       "    .dataframe tbody tr th {\n",
       "        vertical-align: top;\n",
       "    }\n",
       "\n",
       "    .dataframe thead th {\n",
       "        text-align: right;\n",
       "    }\n",
       "</style>\n",
       "<table border=\"1\" class=\"dataframe\">\n",
       "  <thead>\n",
       "    <tr style=\"text-align: right;\">\n",
       "      <th></th>\n",
       "      <th>title</th>\n",
       "      <th>summary</th>\n",
       "      <th>pubDate</th>\n",
       "    </tr>\n",
       "  </thead>\n",
       "  <tbody>\n",
       "    <tr>\n",
       "      <th>0</th>\n",
       "      <td>Apple WWDC 2025: What to expect from iPhone ma...</td>\n",
       "      <td>Apple (AAPL) will be kicking off its 2025 Worl...</td>\n",
       "      <td>2025-06-08T14:00:31Z</td>\n",
       "    </tr>\n",
       "    <tr>\n",
       "      <th>1</th>\n",
       "      <td>Pro Drivers Give Brad Pitt's 'F1' Movie The Th...</td>\n",
       "      <td>Brad Pitt‘s much-vaunted Formula One movie, “F...</td>\n",
       "      <td>2025-06-08T18:31:40Z</td>\n",
       "    </tr>\n",
       "    <tr>\n",
       "      <th>2</th>\n",
       "      <td>Apple WWDC; Inflation Data; GameStop Earnings,...</td>\n",
       "      <td>The new week kicks off with Apple’s Worldwide ...</td>\n",
       "      <td>2025-06-08T18:00:00Z</td>\n",
       "    </tr>\n",
       "    <tr>\n",
       "      <th>3</th>\n",
       "      <td>Warren Buffett's AI Bets: 22% of Berkshire Hat...</td>\n",
       "      <td>Apple has some proving to do in the AI space, ...</td>\n",
       "      <td>2025-06-08T11:30:00Z</td>\n",
       "    </tr>\n",
       "    <tr>\n",
       "      <th>4</th>\n",
       "      <td>Street Calls of the Week</td>\n",
       "      <td>Investing.com -- Here is your Pro Recap of the...</td>\n",
       "      <td>2025-06-08T09:35:35Z</td>\n",
       "    </tr>\n",
       "    <tr>\n",
       "      <th>5</th>\n",
       "      <td>Apple is about to answer a burning question ab...</td>\n",
       "      <td>Apple is about to reveal what’s next for its m...</td>\n",
       "      <td>2025-06-08T09:00:03Z</td>\n",
       "    </tr>\n",
       "    <tr>\n",
       "      <th>6</th>\n",
       "      <td>What To Expect in Markets This Week: May Infla...</td>\n",
       "      <td>Coming up: May CPI Inflation Data, Apple Devel...</td>\n",
       "      <td>2025-06-08T09:00:00Z</td>\n",
       "    </tr>\n",
       "    <tr>\n",
       "      <th>7</th>\n",
       "      <td>WWDC to focus on redesigns as Apple remains si...</td>\n",
       "      <td>Apple’s (AAPL) upcoming Worldwide Developers C...</td>\n",
       "      <td>2025-06-07T14:20:21Z</td>\n",
       "    </tr>\n",
       "    <tr>\n",
       "      <th>8</th>\n",
       "      <td>‘Sextortion’ Scams Involving Apple Messages En...</td>\n",
       "      <td>Criminals exploit the trust teens have in iPho...</td>\n",
       "      <td>2025-06-07T13:00:00Z</td>\n",
       "    </tr>\n",
       "    <tr>\n",
       "      <th>9</th>\n",
       "      <td>Here's How Much Traders Expect Apple Stock to ...</td>\n",
       "      <td>Current options pricing suggests markets expec...</td>\n",
       "      <td>2025-06-07T11:30:00Z</td>\n",
       "    </tr>\n",
       "  </tbody>\n",
       "</table>\n",
       "</div>"
      ],
      "text/plain": [
       "                                               title  \\\n",
       "0  Apple WWDC 2025: What to expect from iPhone ma...   \n",
       "1  Pro Drivers Give Brad Pitt's 'F1' Movie The Th...   \n",
       "2  Apple WWDC; Inflation Data; GameStop Earnings,...   \n",
       "3  Warren Buffett's AI Bets: 22% of Berkshire Hat...   \n",
       "4                           Street Calls of the Week   \n",
       "5  Apple is about to answer a burning question ab...   \n",
       "6  What To Expect in Markets This Week: May Infla...   \n",
       "7  WWDC to focus on redesigns as Apple remains si...   \n",
       "8  ‘Sextortion’ Scams Involving Apple Messages En...   \n",
       "9  Here's How Much Traders Expect Apple Stock to ...   \n",
       "\n",
       "                                             summary               pubDate  \n",
       "0  Apple (AAPL) will be kicking off its 2025 Worl...  2025-06-08T14:00:31Z  \n",
       "1  Brad Pitt‘s much-vaunted Formula One movie, “F...  2025-06-08T18:31:40Z  \n",
       "2  The new week kicks off with Apple’s Worldwide ...  2025-06-08T18:00:00Z  \n",
       "3  Apple has some proving to do in the AI space, ...  2025-06-08T11:30:00Z  \n",
       "4  Investing.com -- Here is your Pro Recap of the...  2025-06-08T09:35:35Z  \n",
       "5  Apple is about to reveal what’s next for its m...  2025-06-08T09:00:03Z  \n",
       "6  Coming up: May CPI Inflation Data, Apple Devel...  2025-06-08T09:00:00Z  \n",
       "7  Apple’s (AAPL) upcoming Worldwide Developers C...  2025-06-07T14:20:21Z  \n",
       "8  Criminals exploit the trust teens have in iPho...  2025-06-07T13:00:00Z  \n",
       "9  Current options pricing suggests markets expec...  2025-06-07T11:30:00Z  "
      ]
     },
     "execution_count": 6,
     "metadata": {},
     "output_type": "execute_result"
    }
   ],
   "source": [
    "df = pd.DataFrame([item[\"content\"] for item in news])\n",
    "\n",
    "columns_to_keep = ['title', 'summary', 'pubDate']\n",
    "df = df[columns_to_keep]\n",
    "\n",
    "df.head(10)"
   ]
  },
  {
   "cell_type": "markdown",
   "id": "d943d26b",
   "metadata": {},
   "source": [
    "## Perform Sentiment Analysis"
   ]
  },
  {
   "cell_type": "code",
   "execution_count": 7,
   "id": "52559926",
   "metadata": {},
   "outputs": [
    {
     "data": {
      "text/html": [
       "<div>\n",
       "<style scoped>\n",
       "    .dataframe tbody tr th:only-of-type {\n",
       "        vertical-align: middle;\n",
       "    }\n",
       "\n",
       "    .dataframe tbody tr th {\n",
       "        vertical-align: top;\n",
       "    }\n",
       "\n",
       "    .dataframe thead th {\n",
       "        text-align: right;\n",
       "    }\n",
       "</style>\n",
       "<table border=\"1\" class=\"dataframe\">\n",
       "  <thead>\n",
       "    <tr style=\"text-align: right;\">\n",
       "      <th></th>\n",
       "      <th>title</th>\n",
       "      <th>summary</th>\n",
       "      <th>pubDate</th>\n",
       "      <th>sentiment</th>\n",
       "      <th>confidence</th>\n",
       "    </tr>\n",
       "  </thead>\n",
       "  <tbody>\n",
       "    <tr>\n",
       "      <th>0</th>\n",
       "      <td>Apple WWDC 2025: What to expect from iPhone ma...</td>\n",
       "      <td>Apple (AAPL) will be kicking off its 2025 Worl...</td>\n",
       "      <td>2025-06-08T14:00:31Z</td>\n",
       "      <td>neutral</td>\n",
       "      <td>0.897314</td>\n",
       "    </tr>\n",
       "    <tr>\n",
       "      <th>1</th>\n",
       "      <td>Pro Drivers Give Brad Pitt's 'F1' Movie The Th...</td>\n",
       "      <td>Brad Pitt‘s much-vaunted Formula One movie, “F...</td>\n",
       "      <td>2025-06-08T18:31:40Z</td>\n",
       "      <td>positive</td>\n",
       "      <td>0.783848</td>\n",
       "    </tr>\n",
       "    <tr>\n",
       "      <th>2</th>\n",
       "      <td>Apple WWDC; Inflation Data; GameStop Earnings,...</td>\n",
       "      <td>The new week kicks off with Apple’s Worldwide ...</td>\n",
       "      <td>2025-06-08T18:00:00Z</td>\n",
       "      <td>neutral</td>\n",
       "      <td>0.504280</td>\n",
       "    </tr>\n",
       "    <tr>\n",
       "      <th>3</th>\n",
       "      <td>Warren Buffett's AI Bets: 22% of Berkshire Hat...</td>\n",
       "      <td>Apple has some proving to do in the AI space, ...</td>\n",
       "      <td>2025-06-08T11:30:00Z</td>\n",
       "      <td>neutral</td>\n",
       "      <td>0.622088</td>\n",
       "    </tr>\n",
       "    <tr>\n",
       "      <th>4</th>\n",
       "      <td>Street Calls of the Week</td>\n",
       "      <td>Investing.com -- Here is your Pro Recap of the...</td>\n",
       "      <td>2025-06-08T09:35:35Z</td>\n",
       "      <td>neutral</td>\n",
       "      <td>0.914881</td>\n",
       "    </tr>\n",
       "  </tbody>\n",
       "</table>\n",
       "</div>"
      ],
      "text/plain": [
       "                                               title  \\\n",
       "0  Apple WWDC 2025: What to expect from iPhone ma...   \n",
       "1  Pro Drivers Give Brad Pitt's 'F1' Movie The Th...   \n",
       "2  Apple WWDC; Inflation Data; GameStop Earnings,...   \n",
       "3  Warren Buffett's AI Bets: 22% of Berkshire Hat...   \n",
       "4                           Street Calls of the Week   \n",
       "\n",
       "                                             summary               pubDate  \\\n",
       "0  Apple (AAPL) will be kicking off its 2025 Worl...  2025-06-08T14:00:31Z   \n",
       "1  Brad Pitt‘s much-vaunted Formula One movie, “F...  2025-06-08T18:31:40Z   \n",
       "2  The new week kicks off with Apple’s Worldwide ...  2025-06-08T18:00:00Z   \n",
       "3  Apple has some proving to do in the AI space, ...  2025-06-08T11:30:00Z   \n",
       "4  Investing.com -- Here is your Pro Recap of the...  2025-06-08T09:35:35Z   \n",
       "\n",
       "  sentiment  confidence  \n",
       "0   neutral    0.897314  \n",
       "1  positive    0.783848  \n",
       "2   neutral    0.504280  \n",
       "3   neutral    0.622088  \n",
       "4   neutral    0.914881  "
      ]
     },
     "execution_count": 7,
     "metadata": {},
     "output_type": "execute_result"
    }
   ],
   "source": [
    "df[\"sentiment\"] = df[\"summary\"].apply(lambda x: classifier(x)[0]['label'])\n",
    "df[\"confidence\"] = df[\"summary\"].apply(lambda x: classifier(x)[0]['score'])\n",
    "\n",
    "df[\"sentiment\"] = df[\"sentiment\"].str.lower()\n",
    "df.head()"
   ]
  },
  {
   "cell_type": "markdown",
   "id": "120a379f",
   "metadata": {},
   "source": [
    "## Save Results to CSV"
   ]
  },
  {
   "cell_type": "code",
   "execution_count": 8,
   "id": "d048d367",
   "metadata": {},
   "outputs": [
    {
     "name": "stdout",
     "output_type": "stream",
     "text": [
      "Saved sentiment results to AAPL_news_sentiment.csv\n"
     ]
    }
   ],
   "source": [
    "filename = f\"{ticker}_news_sentiment.csv\"\n",
    "df.to_csv(filename, index=False)\n",
    "print(f\"Saved sentiment results to {filename}\")"
   ]
  },
  {
   "cell_type": "markdown",
   "id": "9b289702",
   "metadata": {},
   "source": [
    "## Visualize Sentiment Distribution"
   ]
  },
  {
   "cell_type": "code",
   "execution_count": 9,
   "id": "51e585d7",
   "metadata": {},
   "outputs": [
    {
     "data": {
      "image/png": "[encoded data removed]",
      "text/plain": [
       "<Figure size 640x480 with 1 Axes>"
      ]
     },
     "metadata": {},
     "output_type": "display_data"
    }
   ],
   "source": [
    "sentiment_counts = df[\"sentiment\"].value_counts()\n",
    "sentiment_counts.plot(kind=\"bar\", title=f\"{ticker} News Sentiment\", color=[\"blue\", \"green\", \"red\"])\n",
    "plt.ylabel(\"Count\")\n",
    "plt.xticks(rotation=0)  \n",
    "plt.tight_layout()      \n",
    "plt.savefig(f\"{ticker}_sentiment_counts.png\")\n",
    "plt.show()"
   ]
  }
 ],
 "metadata": {
  "kernelspec": {
   "display_name": "venv",
   "language": "python",
   "name": "python3"
  },
  "language_info": {
   "codemirror_mode": {
    "name": "ipython",
    "version": 3
   },
   "file_extension": ".py",
   "mimetype": "text/x-python",
   "name": "python",
   "nbconvert_exporter": "python",
   "pygments_lexer": "ipython3",
   "version": "3.10.0"
  }
 },
 "nbformat": 4,
 "nbformat_minor": 5
}
